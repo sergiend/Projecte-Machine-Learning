{
 "cells": [
  {
   "cell_type": "markdown",
   "id": "248949e6-55c9-4533-bd55-7ec50f66b13f",
   "metadata": {},
   "source": [
    "# Sprint 0 - Tasques\n",
    "## Exercici 3"
   ]
  },
  {
   "cell_type": "code",
   "execution_count": 3,
   "id": "1ab97e1f-7cb3-48e3-93b4-b0160d7dd524",
   "metadata": {},
   "outputs": [
    {
     "data": {
      "text/plain": [
       "64"
      ]
     },
     "execution_count": 3,
     "metadata": {},
     "output_type": "execute_result"
    }
   ],
   "source": [
    "4 ** 3"
   ]
  },
  {
   "cell_type": "code",
   "execution_count": 1,
   "id": "670c136d-e96b-4be1-b3fc-48fd67eb2986",
   "metadata": {},
   "outputs": [
    {
     "data": {
      "text/plain": [
       "2"
      ]
     },
     "execution_count": 1,
     "metadata": {},
     "output_type": "execute_result"
    }
   ],
   "source": [
    "1 + 1"
   ]
  },
  {
   "cell_type": "code",
   "execution_count": 4,
   "id": "09d26bca-a26b-48d6-a52a-0b935c8ba331",
   "metadata": {},
   "outputs": [],
   "source": [
    "r = 3 ** 2"
   ]
  },
  {
   "cell_type": "markdown",
   "id": "5e78d4fe-2539-4fd9-b5b1-e43bf5fd4a2b",
   "metadata": {},
   "source": [
    "El resultat ha de ser **10**, ja que ***r es igual a 3 elevat a la 2 es 9 i aixó més 1 es 10***"
   ]
  },
  {
   "cell_type": "code",
   "execution_count": 5,
   "id": "2bc3d6cf-96bd-4683-b257-e8e31a0ff583",
   "metadata": {},
   "outputs": [
    {
     "data": {
      "text/plain": [
       "10"
      ]
     },
     "execution_count": 5,
     "metadata": {},
     "output_type": "execute_result"
    }
   ],
   "source": [
    "r + 1"
   ]
  },
  {
   "cell_type": "code",
   "execution_count": 1,
   "id": "ab4e5d36-c456-4818-b84c-a2578b43c9b3",
   "metadata": {
    "scrolled": true
   },
   "outputs": [
    {
     "name": "stdout",
     "output_type": "stream",
     "text": [
      "Hola mundo\n"
     ]
    }
   ],
   "source": [
    "print('Hola mundo')"
   ]
  },
  {
   "cell_type": "code",
   "execution_count": 1,
   "id": "9bb2fd89-336e-4d46-9275-1624503a54b1",
   "metadata": {},
   "outputs": [
    {
     "name": "stdout",
     "output_type": "stream",
     "text": [
      "jo de nou\n"
     ]
    }
   ],
   "source": [
    "print('jo de nou')"
   ]
  },
  {
   "cell_type": "markdown",
   "id": "15364a00-c375-42ac-9c18-56e3f00f0f8b",
   "metadata": {},
   "source": [
    "<h1> ola </h1>"
   ]
  },
  {
   "cell_type": "code",
   "execution_count": null,
   "id": "adc706f7-3ecd-4868-b63b-17f2ab1875c5",
   "metadata": {},
   "outputs": [],
   "source": []
  },
  {
   "cell_type": "code",
   "execution_count": 6,
   "id": "4c8d7cd1-cd1a-42eb-9176-c3f4210a4266",
   "metadata": {},
   "outputs": [],
   "source": [
    "r = 1+1"
   ]
  },
  {
   "cell_type": "code",
   "execution_count": 8,
   "id": "ebf36073-bdd6-4538-aacf-751f4e20f612",
   "metadata": {},
   "outputs": [
    {
     "data": {
      "text/plain": [
       "2"
      ]
     },
     "execution_count": 8,
     "metadata": {},
     "output_type": "execute_result"
    }
   ],
   "source": [
    "r"
   ]
  },
  {
   "cell_type": "code",
   "execution_count": 10,
   "id": "1f6675ff-f3d1-4c8e-b1dd-1390733e9383",
   "metadata": {},
   "outputs": [
    {
     "data": {
      "text/plain": [
       "4"
      ]
     },
     "execution_count": 10,
     "metadata": {},
     "output_type": "execute_result"
    }
   ],
   "source": [
    "r * 2"
   ]
  },
  {
   "cell_type": "markdown",
   "id": "9420cad6-bc16-405b-9ae6-88e38a814fb7",
   "metadata": {},
   "source": [
    "## Exercisi 4"
   ]
  },
  {
   "cell_type": "markdown",
   "id": "36104a92-ad6b-4172-96e1-1900d164e0c2",
   "metadata": {},
   "source": [
    "### comienza mi introducción a ML y python"
   ]
  },
  {
   "cell_type": "markdown",
   "id": "de3da5e7-bf3b-41b7-ac47-2b276ef08110",
   "metadata": {},
   "source": [
    ">Este es un **fragmento con comillas**.\n",
    ">El fragmento continúa aquí.\n",
    ">Este es otro **fragmento con comillas**.\n",
    "Este fragmento continúa en la siguiente línea.\n",
    "Esta línea ya no está sangrada."
   ]
  },
  {
   "cell_type": "markdown",
   "id": "b66afb4b-2d56-4ade-ada7-5c2460be3dea",
   "metadata": {},
   "source": [
    ">hola"
   ]
  },
  {
   "cell_type": "markdown",
   "id": "f4e35dd9-8242-4e6c-80b9-fd6ff413fdba",
   "metadata": {},
   "source": [
    ">hola>"
   ]
  },
  {
   "cell_type": "markdown",
   "id": "48ce2c92-8f31-4aab-895d-67e86e9c6127",
   "metadata": {},
   "source": [
    "* no\n",
    "* se\n",
    "* si "
   ]
  },
  {
   "cell_type": "markdown",
   "id": "adae15ce-b2fc-407d-ba19-ced45c8f63bb",
   "metadata": {},
   "source": [
    "- no\n",
    "- se\n",
    "- so"
   ]
  },
  {
   "cell_type": "markdown",
   "id": "13959535-80fd-426a-af76-654fdbbd0618",
   "metadata": {},
   "source": [
    "[ ] ala\n",
    "[x] ola\n",
    "[ ] hola"
   ]
  },
  {
   "cell_type": "markdown",
   "id": "7bac1357-1cb8-46c1-a1c9-daa675e223d8",
   "metadata": {},
   "source": [
    "[ ] A\n",
    "[x] B\n",
    "[ ] C"
   ]
  },
  {
   "cell_type": "markdown",
   "id": "27a51034-ccc3-4064-a932-b2e9cd21e619",
   "metadata": {},
   "source": [
    "|Columna 1|Columna 2|\n",
    "|--------|--------|\n",
    "|    A    |    B    |\n",
    "|    C    |    D    |"
   ]
  },
  {
   "cell_type": "markdown",
   "id": "cf89cab7-bd7a-483d-8f97-4491d360c502",
   "metadata": {},
   "source": [
    "Puedes colocar [^1] notas en el pie de página [^2] fácilmente.\n",
    "[^1]: Aquí encuentras el texto de la nota al pie de página.\n",
    "[^2]: **Las notas de pie de página** pueden *formatearse* también.\n",
    "Estas pueden ocupar varias líneas."
   ]
  },
  {
   "cell_type": "markdown",
   "id": "283063cd-1be2-48f0-8496-dbed86c5323d",
   "metadata": {},
   "source": [
    "Esto es un \\*ejemplo con asteriscos\\*."
   ]
  },
  {
   "cell_type": "markdown",
   "id": "6eb7c852-ea40-40b1-a66c-8438a7e10bb4",
   "metadata": {},
   "source": [
    "A continuación se muestra un [Link](https://ejemplo.com/ \"Título opcional del enlace\")."
   ]
  },
  {
   "cell_type": "markdown",
   "id": "5fdf96f8-36ef-44fd-97a5-2e28161cd9ee",
   "metadata": {},
   "source": [
    "![Esta es una imagen de Bucaramanga](https://colombiapais.com/principales-destinos/imagenes/bucaramanga-panoramica-atardecer.jpg)"
   ]
  },
  {
   "cell_type": "markdown",
   "id": "ce65e094-d373-4056-95b4-7f54b2459373",
   "metadata": {},
   "source": [
    "[![Esta es una imagen de ejemplo](https://colombiapais.com/principales-destinos/imagenes/bucaramanga-panoramica-atardecer.jpg)](https://colombiapais.com/principales-destinos/imagenes/bucaramanga-panoramica-atardecer.jpg)"
   ]
  },
  {
   "cell_type": "markdown",
   "id": "0b004387-0621-4934-8dff-4b41ee654547",
   "metadata": {},
   "source": [
    "![Esta es una imagen de ejemplo](https://ejemplo.com/imagen.jpg)"
   ]
  },
  {
   "cell_type": "code",
   "execution_count": null,
   "id": "9d170e17-6c61-4c19-a5db-90c4526580df",
   "metadata": {},
   "outputs": [],
   "source": []
  }
 ],
 "metadata": {
  "kernelspec": {
   "display_name": "Python 3 (ipykernel)",
   "language": "python",
   "name": "python3"
  },
  "language_info": {
   "codemirror_mode": {
    "name": "ipython",
    "version": 3
   },
   "file_extension": ".py",
   "mimetype": "text/x-python",
   "name": "python",
   "nbconvert_exporter": "python",
   "pygments_lexer": "ipython3",
   "version": "3.12.4"
  }
 },
 "nbformat": 4,
 "nbformat_minor": 5
}
